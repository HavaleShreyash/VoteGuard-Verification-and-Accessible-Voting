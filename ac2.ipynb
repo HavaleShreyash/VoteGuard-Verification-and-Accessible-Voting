{
 "cells": [
  {
   "cell_type": "code",
   "execution_count": null,
   "metadata": {},
   "outputs": [],
   "source": [
    "import os\n",
    "#import biometric as bio\n",
    "import pwinput\n",
    "import pandas as pd\n",
    "\n",
    "def create_account():\n",
    "    # Create an empty dataframe with columns, 'username' and 'password'\n",
    "    user_name = pd.DataFrame(columns=['aadr', 'password', 'voting status'])\n",
    "    # Ask the user for their username and password\n",
    "    aadr = input(\"Enter your Aadhar ID: \") \n",
    "    password1 = pwinput.pwinput(prompt='Enter your password: ', mask='*')\n",
    "    password = input(\"Enter your password: \")\n",
    "    # Append the username and password to the dataframe as a new row\n",
    "    # Append the username and password to the dataframe as a new row\n",
    "    new_row = pd.DataFrame({'aadr': aadr, 'password': password1, 'voting status': 0}, index=[0])\n",
    "    user_name = pd.concat([user_name, new_row], ignore_index=True)\n",
    "\n",
    "    #user_name = user_name.append({'aadr': aadr, 'password': password1, 'voting status': 0}, ignore_index=True)\n",
    "    \n",
    "    # Write the dataframe to a CSV file\n",
    "    user_name.to_csv('D:/EPICS/Beta_V01/users.csv', mode='a', header=not os.path.exists('D:/EPICS/Beta_V01/users.csv'), index=False)\n",
    "    \n",
    "    #Biometric ka code\n",
    "    information(aadr)\n",
    "    print(\"Account Created!\")\n",
    "    \n",
    "\n",
    "def information(adrnum):\n",
    "\n",
    "    aadr_info = pd.read_csv(\"D:/EPICS/Beta_V01/aadr.csv\")\n",
    "    # aadr_info.head()\n",
    "    # Get the index of the row where 'aadhar' column matches the given 'adrnum'\n",
    "    index = aadr_info.loc[aadr_info['aadhar'].str.contains(adrnum, case=False)]\n",
    "\n",
    "    # Get the adjacent columns of the row with the given index\n",
    "    name = aadr_info.loc[:, 'name']\n",
    "    gender = aadr_info.iloc[index]['gender']\n",
    "    age = aadr_info.iloc[index]['age']\n",
    "    address = aadr_info.iloc[index]['address']\n",
    "\n",
    "    # Create a new dataframe with the user information\n",
    "    user_information = pd.DataFrame({\n",
    "        'name': [name],\n",
    "        'gender': [gender],\n",
    "        'age': [age],\n",
    "        'aadhar': [adrnum],\n",
    "        'address': [address]\n",
    "    })\n",
    "\n",
    "    print(user_information)\n",
    "    \n",
    "if __name__ == \"__main__\":\n",
    "    create_account()\n",
    "\n",
    "\n",
    "\n",
    "\n"
   ]
  },
  {
   "cell_type": "code",
   "execution_count": 1,
   "metadata": {},
   "outputs": [],
   "source": [
    "import os\n",
    "#import biometric as bio\n",
    "import pwinput\n",
    "import pandas as pd\n",
    "\n",
    "# Create an empty dataframe with columns, 'username' and 'password'\n",
    "user_name = pd.DataFrame(columns=['aadr', 'password', 'voting status'])\n",
    "# Ask the user for their username and password\n",
    "aadr = input(\"Enter your Aadhar ID: \") \n",
    "# password1 = pwinput.pwinput(prompt='Enter your password: ', mask='*')\n",
    "password1 = input(\"Enter your password: \")\n",
    "\n",
    "\n",
    "# Append the username and password to the dataframe as a new row\n",
    "new_row = pd.DataFrame({'aadr': aadr, 'password': password1, 'voting status': 0}, index=[0])\n",
    "user_name = pd.concat([user_name, new_row], ignore_index=True)\n",
    "\n"
   ]
  },
  {
   "cell_type": "code",
   "execution_count": 2,
   "metadata": {},
   "outputs": [
    {
     "name": "stdout",
     "output_type": "stream",
     "text": [
      "   aadr password voting status\n",
      "0  1111       11             0\n"
     ]
    }
   ],
   "source": [
    "print(user_name)"
   ]
  },
  {
   "cell_type": "code",
   "execution_count": 17,
   "metadata": {},
   "outputs": [
    {
     "name": "stdout",
     "output_type": "stream",
     "text": [
      "shreyash\n"
     ]
    }
   ],
   "source": [
    "#def information(adrnum):\n",
    "\n",
    "aadr_info = pd.read_csv(\"D:/EPICS/Beta_V01/aadr.csv\")\n",
    "# Get the index of the row where 'aadhar' column matches the given 'adrnum'\n",
    "index = aadr_info.loc[aadr_info['aadhar'] == 1111]\n",
    "\n",
    "name = aadr_info.loc[0, 'name']\n",
    "gender = aadr_info.loc[0, 'gender']\n",
    "age = aadr_info.loc[0, 'age']\n",
    "address = aadr_info.loc[0, 'address']\n",
    "print(name)\n",
    "    # # Create a new dataframe with the user information\n",
    "    user_information = pd.DataFrame({\n",
    "        'name': [name],\n",
    "        'gender': [gender],\n",
    "        'age': [age],\n",
    "        'aadhar': [adrnum],\n",
    "        'address': [address]\n",
    "    })\n",
    "\n",
    "    # #print(user_information)\n",
    "    # user_name.to_csv('D:/EPICS/Beta_V01/users.csv', mode='a', header=not os.path.exists('D:/EPICS/Beta_V01/users.csv'), index=False)\n"
   ]
  },
  {
   "cell_type": "code",
   "execution_count": 18,
   "metadata": {},
   "outputs": [
    {
     "name": "stdout",
     "output_type": "stream",
     "text": [
      "True\n"
     ]
    }
   ],
   "source": [
    "if 1111 in aadr_info['aadhar'].values:\n",
    "    print(\"True\")"
   ]
  },
  {
   "cell_type": "code",
   "execution_count": null,
   "metadata": {},
   "outputs": [],
   "source": [
    "# Create a dictionary with keys as column names and values as variable values\n",
    "new_row = {\"Name\": name, \"Age\": age, \"City\": city}\n",
    "\n",
    "# Append the dictionary to the CSV file\n",
    "with open('user.csv', mode='a', newline='') as file:\n",
    "    writer = csv.DictWriter(file, fieldnames=[\"Name\", \"Age\", \"City\"])\n",
    "    writer.writerow(new_row)"
   ]
  },
  {
   "cell_type": "code",
   "execution_count": 9,
   "metadata": {},
   "outputs": [
    {
     "name": "stdout",
     "output_type": "stream",
     "text": [
      "       name gender  age address  aadhar\n",
      "0  shreyash      m   21     goa    1111\n",
      "1         n      f   21     wad    1234\n",
      "       name gender  age address  aadhar\n",
      "0  shreyash      m   21     goa    1111\n"
     ]
    }
   ],
   "source": [
    "aadr_info = pd.read_csv(\"D:/EPICS/Beta_V01/aadr.csv\")\n",
    "print(aadr_info)\n",
    "index = aadr_info.loc[aadr_info['aadhar'] == 1111]\n",
    "print(index)"
   ]
  },
  {
   "cell_type": "code",
   "execution_count": 12,
   "metadata": {},
   "outputs": [],
   "source": [
    "name = aadr_info.loc[:, 'name']\n",
    "gender = aadr_info.loc[:, 'gender']\n",
    "age = aadr_info.loc[:, 'age']\n",
    "address = aadr_info.loc[:, 'address']"
   ]
  },
  {
   "cell_type": "code",
   "execution_count": 13,
   "metadata": {},
   "outputs": [
    {
     "name": "stdout",
     "output_type": "stream",
     "text": [
      "                                                name   \n",
      "0  0    shreyash\n",
      "1           n\n",
      "Name: name, dtype:...  \\\n",
      "\n",
      "                                      gender   \n",
      "0  0    m\n",
      "1    f\n",
      "Name: gender, dtype: object  \\\n",
      "\n",
      "                                       age  aadhar   \n",
      "0  0    21\n",
      "1    21\n",
      "Name: age, dtype: int64    1111  \\\n",
      "\n",
      "                                          address  \n",
      "0  0    goa\n",
      "1    wad\n",
      "Name: address, dtype: object  \n"
     ]
    }
   ],
   "source": [
    "adrnum = 1111\n",
    "user_information = pd.DataFrame({\n",
    "        'name': [name],\n",
    "        'gender': [gender],\n",
    "        'age': [age],\n",
    "        'aadhar': [adrnum],\n",
    "        'address': [address]\n",
    "    })\n",
    "\n",
    "print(user_information)     "
   ]
  },
  {
   "cell_type": "code",
   "execution_count": 14,
   "metadata": {},
   "outputs": [
    {
     "name": "stdout",
     "output_type": "stream",
     "text": [
      "Account Created!\n"
     ]
    }
   ],
   "source": [
    "# Write the dataframe to a CSV file\n",
    "user_name.to_csv('D:/EPICS/Beta_V01/users.csv', mode='a', header=not os.path.exists('D:/EPICS/Beta_V01/users.csv'), index=False)\n",
    "\n",
    "#Biometric ka code\n",
    "# information(aadr)\n",
    "print(\"Account Created!\")"
   ]
  },
  {
   "cell_type": "code",
   "execution_count": 2,
   "metadata": {},
   "outputs": [
    {
     "name": "stdout",
     "output_type": "stream",
     "text": [
      "       name gender  age address  aadhar\n",
      "0  shreyash      m   21     goa    1111\n",
      "1         n      f   21     wad    1234\n"
     ]
    }
   ],
   "source": [
    "import pandas as pd\n",
    "aadr_info = pd.read_csv(\"D:/EPICS/Beta_V01/aadr.csv\")\n",
    "aadr = int(input(\"Enter your Aadhar ID: \"))\n",
    "print(aadr_info)\n",
    "if aadr in aadr_info['aadhar'].values:\n",
    "    print(\"True\")"
   ]
  }
 ],
 "metadata": {
  "kernelspec": {
   "display_name": "EPICS",
   "language": "python",
   "name": "python3"
  },
  "language_info": {
   "codemirror_mode": {
    "name": "ipython",
    "version": 3
   },
   "file_extension": ".py",
   "mimetype": "text/x-python",
   "name": "python",
   "nbconvert_exporter": "python",
   "pygments_lexer": "ipython3",
   "version": "3.11.3"
  },
  "orig_nbformat": 4
 },
 "nbformat": 4,
 "nbformat_minor": 2
}
